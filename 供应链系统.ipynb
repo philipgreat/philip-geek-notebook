{
 "cells": [
  {
   "cell_type": "code",
   "execution_count": 2,
   "id": "af8dcfcf-748e-4bbf-afcc-03e6a05ba518",
   "metadata": {},
   "outputs": [],
   "source": [
    "import iplantuml\n"
   ]
  },
  {
   "cell_type": "code",
   "execution_count": 7,
   "id": "df40029c-f7bc-4ddc-b171-173b42d67709",
   "metadata": {},
   "outputs": [
    {
     "data": {
      "image/svg+xml": [
       "<svg xmlns=\"http://www.w3.org/2000/svg\" xmlns:xlink=\"http://www.w3.org/1999/xlink\" contentScriptType=\"application/ecmascript\" contentStyleType=\"text/css\" height=\"362px\" preserveAspectRatio=\"none\" style=\"width:631px;height:362px;background:#FFFFFF;\" version=\"1.1\" viewBox=\"0 0 631 362\" width=\"631px\" zoomAndPan=\"magnify\"><defs><filter height=\"300%\" id=\"f1v7pa1q9vct83\" width=\"300%\" x=\"-1\" y=\"-1\"><feGaussianBlur result=\"blurOut\" stdDeviation=\"2.0\"/><feColorMatrix in=\"blurOut\" result=\"blurOut2\" type=\"matrix\" values=\"0 0 0 0 0 0 0 0 0 0 0 0 0 0 0 0 0 0 .4 0\"/><feOffset dx=\"4.0\" dy=\"4.0\" in=\"blurOut2\" result=\"blurOut3\"/><feBlend in=\"SourceGraphic\" in2=\"blurOut3\" mode=\"normal\"/></filter></defs><g><line style=\"stroke:#383838;stroke-width:1.0;stroke-dasharray:5.0,5.0;\" x1=\"42\" x2=\"42\" y1=\"40.4883\" y2=\"319.2832\"/><line style=\"stroke:#383838;stroke-width:1.0;stroke-dasharray:5.0,5.0;\" x1=\"112\" x2=\"112\" y1=\"40.4883\" y2=\"319.2832\"/><line style=\"stroke:#383838;stroke-width:1.0;stroke-dasharray:5.0,5.0;\" x1=\"279\" x2=\"279\" y1=\"40.4883\" y2=\"319.2832\"/><line style=\"stroke:#383838;stroke-width:1.0;stroke-dasharray:5.0,5.0;\" x1=\"384\" x2=\"384\" y1=\"40.4883\" y2=\"319.2832\"/><line style=\"stroke:#383838;stroke-width:1.0;stroke-dasharray:5.0,5.0;\" x1=\"489\" x2=\"489\" y1=\"40.4883\" y2=\"319.2832\"/><line style=\"stroke:#383838;stroke-width:1.0;stroke-dasharray:5.0,5.0;\" x1=\"591\" x2=\"591\" y1=\"40.4883\" y2=\"319.2832\"/><rect fill=\"#F8F8F8\" filter=\"url(#f1v7pa1q9vct83)\" height=\"30.4883\" style=\"stroke:#383838;stroke-width:1.5;\" width=\"70\" x=\"5\" y=\"5\"/><text fill=\"#000000\" font-family=\"sans-serif\" font-size=\"14\" lengthAdjust=\"spacing\" textLength=\"56\" x=\"12\" y=\"25.5352\">定时触发</text><rect fill=\"#F8F8F8\" filter=\"url(#f1v7pa1q9vct83)\" height=\"30.4883\" style=\"stroke:#383838;stroke-width:1.5;\" width=\"70\" x=\"5\" y=\"318.2832\"/><text fill=\"#000000\" font-family=\"sans-serif\" font-size=\"14\" lengthAdjust=\"spacing\" textLength=\"56\" x=\"12\" y=\"338.8184\">定时触发</text><rect fill=\"#F8F8F8\" filter=\"url(#f1v7pa1q9vct83)\" height=\"30.4883\" style=\"stroke:#383838;stroke-width:1.5;\" width=\"42\" x=\"89\" y=\"5\"/><text fill=\"#000000\" font-family=\"sans-serif\" font-size=\"14\" lengthAdjust=\"spacing\" textLength=\"28\" x=\"96\" y=\"25.5352\">供方</text><rect fill=\"#F8F8F8\" filter=\"url(#f1v7pa1q9vct83)\" height=\"30.4883\" style=\"stroke:#383838;stroke-width:1.5;\" width=\"42\" x=\"89\" y=\"318.2832\"/><text fill=\"#000000\" font-family=\"sans-serif\" font-size=\"14\" lengthAdjust=\"spacing\" textLength=\"28\" x=\"96\" y=\"338.8184\">供方</text><rect fill=\"#F8F8F8\" filter=\"url(#f1v7pa1q9vct83)\" height=\"30.4883\" style=\"stroke:#383838;stroke-width:1.5;\" width=\"70\" x=\"242\" y=\"5\"/><text fill=\"#000000\" font-family=\"sans-serif\" font-size=\"14\" lengthAdjust=\"spacing\" textLength=\"56\" x=\"249\" y=\"25.5352\">供方门户</text><rect fill=\"#F8F8F8\" filter=\"url(#f1v7pa1q9vct83)\" height=\"30.4883\" style=\"stroke:#383838;stroke-width:1.5;\" width=\"70\" x=\"242\" y=\"318.2832\"/><text fill=\"#000000\" font-family=\"sans-serif\" font-size=\"14\" lengthAdjust=\"spacing\" textLength=\"56\" x=\"249\" y=\"338.8184\">供方门户</text><rect fill=\"#F8F8F8\" filter=\"url(#f1v7pa1q9vct83)\" height=\"30.4883\" style=\"stroke:#383838;stroke-width:1.5;\" width=\"112\" x=\"326\" y=\"5\"/><text fill=\"#000000\" font-family=\"sans-serif\" font-size=\"14\" lengthAdjust=\"spacing\" textLength=\"98\" x=\"333\" y=\"25.5352\">供应链核心系统</text><rect fill=\"#F8F8F8\" filter=\"url(#f1v7pa1q9vct83)\" height=\"30.4883\" style=\"stroke:#383838;stroke-width:1.5;\" width=\"112\" x=\"326\" y=\"318.2832\"/><text fill=\"#000000\" font-family=\"sans-serif\" font-size=\"14\" lengthAdjust=\"spacing\" textLength=\"98\" x=\"333\" y=\"338.8184\">供应链核心系统</text><rect fill=\"#F8F8F8\" filter=\"url(#f1v7pa1q9vct83)\" height=\"30.4883\" style=\"stroke:#383838;stroke-width:1.5;\" width=\"70\" x=\"452\" y=\"5\"/><text fill=\"#000000\" font-family=\"sans-serif\" font-size=\"14\" lengthAdjust=\"spacing\" textLength=\"56\" x=\"459\" y=\"25.5352\">平台门户</text><rect fill=\"#F8F8F8\" filter=\"url(#f1v7pa1q9vct83)\" height=\"30.4883\" style=\"stroke:#383838;stroke-width:1.5;\" width=\"70\" x=\"452\" y=\"318.2832\"/><text fill=\"#000000\" font-family=\"sans-serif\" font-size=\"14\" lengthAdjust=\"spacing\" textLength=\"56\" x=\"459\" y=\"338.8184\">平台门户</text><rect fill=\"#F8F8F8\" filter=\"url(#f1v7pa1q9vct83)\" height=\"30.4883\" style=\"stroke:#383838;stroke-width:1.5;\" width=\"56\" x=\"561\" y=\"5\"/><text fill=\"#000000\" font-family=\"sans-serif\" font-size=\"14\" lengthAdjust=\"spacing\" textLength=\"42\" x=\"568\" y=\"25.5352\">品牌方</text><rect fill=\"#F8F8F8\" filter=\"url(#f1v7pa1q9vct83)\" height=\"30.4883\" style=\"stroke:#383838;stroke-width:1.5;\" width=\"56\" x=\"561\" y=\"318.2832\"/><text fill=\"#000000\" font-family=\"sans-serif\" font-size=\"14\" lengthAdjust=\"spacing\" textLength=\"42\" x=\"568\" y=\"338.8184\">品牌方</text><polygon fill=\"#383838\" points=\"372,67.7988,382,71.7988,372,75.7988,376,71.7988\" style=\"stroke:#383838;stroke-width:1.0;\"/><line style=\"stroke:#383838;stroke-width:1.0;\" x1=\"42\" x2=\"378\" y1=\"71.7988\" y2=\"71.7988\"/><text fill=\"#000000\" font-family=\"sans-serif\" font-size=\"13\" lengthAdjust=\"spacing\" textLength=\"104\" x=\"49\" y=\"67.0566\">检查各库安全库存</text><polygon fill=\"#383838\" points=\"579,121.4199,589,125.4199,579,129.4199,583,125.4199\" style=\"stroke:#383838;stroke-width:1.0;\"/><line style=\"stroke:#383838;stroke-width:1.0;\" x1=\"384\" x2=\"585\" y1=\"125.4199\" y2=\"125.4199\"/><text fill=\"#000000\" font-family=\"sans-serif\" font-size=\"13\" lengthAdjust=\"spacing\" textLength=\"169\" x=\"391\" y=\"120.6777\">发送要补货仓库，并说明依据</text><polygon fill=\"#383838\" points=\"500,150.7305,490,154.7305,500,158.7305,496,154.7305\" style=\"stroke:#383838;stroke-width:1.0;\"/><line style=\"stroke:#383838;stroke-width:1.0;\" x1=\"494\" x2=\"590\" y1=\"154.7305\" y2=\"154.7305\"/><text fill=\"#000000\" font-family=\"sans-serif\" font-size=\"13\" lengthAdjust=\"spacing\" textLength=\"78\" x=\"506\" y=\"149.9883\">确认补货请求</text><polygon fill=\"#383838\" points=\"123,180.041,113,184.041,123,188.041,119,184.041\" style=\"stroke:#383838;stroke-width:1.0;\"/><line style=\"stroke:#383838;stroke-width:1.0;\" x1=\"117\" x2=\"383\" y1=\"184.041\" y2=\"184.041\"/><text fill=\"#000000\" font-family=\"sans-serif\" font-size=\"13\" lengthAdjust=\"spacing\" textLength=\"52\" x=\"129\" y=\"179.2988\">补货请求</text><polygon fill=\"#383838\" points=\"267,209.3516,277,213.3516,267,217.3516,271,213.3516\" style=\"stroke:#383838;stroke-width:1.0;\"/><line style=\"stroke:#383838;stroke-width:1.0;\" x1=\"112\" x2=\"273\" y1=\"213.3516\" y2=\"213.3516\"/><text fill=\"#000000\" font-family=\"sans-serif\" font-size=\"13\" lengthAdjust=\"spacing\" textLength=\"52\" x=\"119\" y=\"208.6094\">确认供货</text><polygon fill=\"#383838\" points=\"267,238.6621,277,242.6621,267,246.6621,271,242.6621\" style=\"stroke:#383838;stroke-width:1.0;\"/><line style=\"stroke:#383838;stroke-width:1.0;\" x1=\"112\" x2=\"273\" y1=\"242.6621\" y2=\"242.6621\"/><text fill=\"#000000\" font-family=\"sans-serif\" font-size=\"13\" lengthAdjust=\"spacing\" textLength=\"143\" x=\"119\" y=\"237.9199\">备货，打印二维码，装箱</text><polygon fill=\"#383838\" points=\"267,267.9727,277,271.9727,267,275.9727,271,271.9727\" style=\"stroke:#383838;stroke-width:1.0;\"/><line style=\"stroke:#383838;stroke-width:1.0;\" x1=\"112\" x2=\"273\" y1=\"271.9727\" y2=\"271.9727\"/><text fill=\"#000000\" font-family=\"sans-serif\" font-size=\"13\" lengthAdjust=\"spacing\" textLength=\"26\" x=\"119\" y=\"267.2305\">发货</text><polygon fill=\"#383838\" points=\"500,297.2832,490,301.2832,500,305.2832,496,301.2832\" style=\"stroke:#383838;stroke-width:1.0;\"/><line style=\"stroke:#383838;stroke-width:1.0;\" x1=\"494\" x2=\"590\" y1=\"301.2832\" y2=\"301.2832\"/><text fill=\"#000000\" font-family=\"sans-serif\" font-size=\"13\" lengthAdjust=\"spacing\" textLength=\"52\" x=\"506\" y=\"296.541\">收货入库</text><!--MD5=[03016fe714c1dd81962fafc5b8cc7058]\n",
       "@startuml\n",
       "skinparam monochrome true\n",
       "participant 定时触发 order 0\n",
       "participant 供方 order 10\n",
       "participant 供方门户 order 20\n",
       "participant 供应链核心系统 order 30\n",
       "\n",
       "participant 品牌方 order 50\n",
       "participant 平台门户 order 40\n",
       "\n",
       "定时触发->供应链核心系统: 检查各库安全库存\n",
       "alt 低于安全库存需要补货\n",
       "供应链核心系统->品牌方:  发送要补货仓库，并说明依据\n",
       "品牌方->平台门户: 确认补货请求\n",
       "供应链核心系统->供方: 补货请求\n",
       "\n",
       "供方 -> 供方门户: 确认供货\n",
       "供方 -> 供方门户: 备货，打印二维码，装箱\n",
       "供方 -> 供方门户: 发货\n",
       "品牌方 -> 平台门户: 收货入库\n",
       "\n",
       "@enduml\n",
       "\n",
       "PlantUML version 1.2021.9(Sun Jul 25 18:13:56 CST 2021)\n",
       "(GPL source distribution)\n",
       "Java Runtime: OpenJDK Runtime Environment\n",
       "JVM: OpenJDK 64-Bit Server VM\n",
       "Default Encoding: UTF-8\n",
       "Language: en\n",
       "Country: CN\n",
       "--></g></svg>"
      ],
      "text/plain": [
       "<IPython.core.display.SVG object>"
      ]
     },
     "execution_count": 7,
     "metadata": {},
     "output_type": "execute_result"
    }
   ],
   "source": [
    "%%plantuml --jar\n",
    "\n",
    "@startuml\n",
    "skinparam monochrome true\n",
    "participant 定时触发 order 0\n",
    "participant 供方 order 10\n",
    "participant 供方门户 order 20\n",
    "participant 供应链核心系统 order 30\n",
    "\n",
    "participant 品牌方 order 50\n",
    "participant 平台门户 order 40\n",
    "\n",
    "定时触发->供应链核心系统: 检查各库安全库存\n",
    "alt 低于安全库存需要补货\n",
    "供应链核心系统->品牌方:  发送要补货仓库，并说明依据\n",
    "品牌方->平台门户: 确认补货请求\n",
    "供应链核心系统->供方: 补货请求\n",
    "\n",
    "供方 -> 供方门户: 确认供货\n",
    "供方 -> 供方门户: 备货，打印二维码，装箱\n",
    "供方 -> 供方门户: 发货\n",
    "品牌方 -> 平台门户: 收货入库\n",
    "\n",
    "@enduml\n"
   ]
  },
  {
   "cell_type": "code",
   "execution_count": 9,
   "id": "6081658a-f20e-4ebe-80e1-de9c6d5f255f",
   "metadata": {},
   "outputs": [
    {
     "data": {
      "image/svg+xml": [
       "<svg xmlns=\"http://www.w3.org/2000/svg\" xmlns:xlink=\"http://www.w3.org/1999/xlink\" contentScriptType=\"application/ecmascript\" contentStyleType=\"text/css\" height=\"279px\" preserveAspectRatio=\"none\" style=\"width:566px;height:279px;background:#FFFFFF;\" version=\"1.1\" viewBox=\"0 0 566 279\" width=\"566px\" zoomAndPan=\"magnify\"><defs><filter height=\"300%\" id=\"f8sf05skrqj91\" width=\"300%\" x=\"-1\" y=\"-1\"><feGaussianBlur result=\"blurOut\" stdDeviation=\"2.0\"/><feColorMatrix in=\"blurOut\" result=\"blurOut2\" type=\"matrix\" values=\"0 0 0 0 0 0 0 0 0 0 0 0 0 0 0 0 0 0 .4 0\"/><feOffset dx=\"4.0\" dy=\"4.0\" in=\"blurOut2\" result=\"blurOut3\"/><feBlend in=\"SourceGraphic\" in2=\"blurOut3\" mode=\"normal\"/></filter></defs><g><line style=\"stroke:#383838;stroke-width:1.0;stroke-dasharray:5.0,5.0;\" x1=\"42\" x2=\"42\" y1=\"40.4883\" y2=\"236.3516\"/><line style=\"stroke:#383838;stroke-width:1.0;stroke-dasharray:5.0,5.0;\" x1=\"112\" x2=\"112\" y1=\"40.4883\" y2=\"236.3516\"/><line style=\"stroke:#383838;stroke-width:1.0;stroke-dasharray:5.0,5.0;\" x1=\"214\" x2=\"214\" y1=\"40.4883\" y2=\"236.3516\"/><line style=\"stroke:#383838;stroke-width:1.0;stroke-dasharray:5.0,5.0;\" x1=\"319\" x2=\"319\" y1=\"40.4883\" y2=\"236.3516\"/><line style=\"stroke:#383838;stroke-width:1.0;stroke-dasharray:5.0,5.0;\" x1=\"424\" x2=\"424\" y1=\"40.4883\" y2=\"236.3516\"/><line style=\"stroke:#383838;stroke-width:1.0;stroke-dasharray:5.0,5.0;\" x1=\"526\" x2=\"526\" y1=\"40.4883\" y2=\"236.3516\"/><rect fill=\"#F8F8F8\" filter=\"url(#f8sf05skrqj91)\" height=\"30.4883\" style=\"stroke:#383838;stroke-width:1.5;\" width=\"70\" x=\"5\" y=\"5\"/><text fill=\"#000000\" font-family=\"sans-serif\" font-size=\"14\" lengthAdjust=\"spacing\" textLength=\"56\" x=\"12\" y=\"25.5352\">定时触发</text><rect fill=\"#F8F8F8\" filter=\"url(#f8sf05skrqj91)\" height=\"30.4883\" style=\"stroke:#383838;stroke-width:1.5;\" width=\"70\" x=\"5\" y=\"235.3516\"/><text fill=\"#000000\" font-family=\"sans-serif\" font-size=\"14\" lengthAdjust=\"spacing\" textLength=\"56\" x=\"12\" y=\"255.8867\">定时触发</text><rect fill=\"#F8F8F8\" filter=\"url(#f8sf05skrqj91)\" height=\"30.4883\" style=\"stroke:#383838;stroke-width:1.5;\" width=\"42\" x=\"89\" y=\"5\"/><text fill=\"#000000\" font-family=\"sans-serif\" font-size=\"14\" lengthAdjust=\"spacing\" textLength=\"28\" x=\"96\" y=\"25.5352\">供方</text><rect fill=\"#F8F8F8\" filter=\"url(#f8sf05skrqj91)\" height=\"30.4883\" style=\"stroke:#383838;stroke-width:1.5;\" width=\"42\" x=\"89\" y=\"235.3516\"/><text fill=\"#000000\" font-family=\"sans-serif\" font-size=\"14\" lengthAdjust=\"spacing\" textLength=\"28\" x=\"96\" y=\"255.8867\">供方</text><rect fill=\"#F8F8F8\" filter=\"url(#f8sf05skrqj91)\" height=\"30.4883\" style=\"stroke:#383838;stroke-width:1.5;\" width=\"70\" x=\"177\" y=\"5\"/><text fill=\"#000000\" font-family=\"sans-serif\" font-size=\"14\" lengthAdjust=\"spacing\" textLength=\"56\" x=\"184\" y=\"25.5352\">供方门户</text><rect fill=\"#F8F8F8\" filter=\"url(#f8sf05skrqj91)\" height=\"30.4883\" style=\"stroke:#383838;stroke-width:1.5;\" width=\"70\" x=\"177\" y=\"235.3516\"/><text fill=\"#000000\" font-family=\"sans-serif\" font-size=\"14\" lengthAdjust=\"spacing\" textLength=\"56\" x=\"184\" y=\"255.8867\">供方门户</text><rect fill=\"#F8F8F8\" filter=\"url(#f8sf05skrqj91)\" height=\"30.4883\" style=\"stroke:#383838;stroke-width:1.5;\" width=\"112\" x=\"261\" y=\"5\"/><text fill=\"#000000\" font-family=\"sans-serif\" font-size=\"14\" lengthAdjust=\"spacing\" textLength=\"98\" x=\"268\" y=\"25.5352\">供应链核心系统</text><rect fill=\"#F8F8F8\" filter=\"url(#f8sf05skrqj91)\" height=\"30.4883\" style=\"stroke:#383838;stroke-width:1.5;\" width=\"112\" x=\"261\" y=\"235.3516\"/><text fill=\"#000000\" font-family=\"sans-serif\" font-size=\"14\" lengthAdjust=\"spacing\" textLength=\"98\" x=\"268\" y=\"255.8867\">供应链核心系统</text><rect fill=\"#F8F8F8\" filter=\"url(#f8sf05skrqj91)\" height=\"30.4883\" style=\"stroke:#383838;stroke-width:1.5;\" width=\"70\" x=\"387\" y=\"5\"/><text fill=\"#000000\" font-family=\"sans-serif\" font-size=\"14\" lengthAdjust=\"spacing\" textLength=\"56\" x=\"394\" y=\"25.5352\">平台门户</text><rect fill=\"#F8F8F8\" filter=\"url(#f8sf05skrqj91)\" height=\"30.4883\" style=\"stroke:#383838;stroke-width:1.5;\" width=\"70\" x=\"387\" y=\"235.3516\"/><text fill=\"#000000\" font-family=\"sans-serif\" font-size=\"14\" lengthAdjust=\"spacing\" textLength=\"56\" x=\"394\" y=\"255.8867\">平台门户</text><rect fill=\"#F8F8F8\" filter=\"url(#f8sf05skrqj91)\" height=\"30.4883\" style=\"stroke:#383838;stroke-width:1.5;\" width=\"56\" x=\"496\" y=\"5\"/><text fill=\"#000000\" font-family=\"sans-serif\" font-size=\"14\" lengthAdjust=\"spacing\" textLength=\"42\" x=\"503\" y=\"25.5352\">品牌方</text><rect fill=\"#F8F8F8\" filter=\"url(#f8sf05skrqj91)\" height=\"30.4883\" style=\"stroke:#383838;stroke-width:1.5;\" width=\"56\" x=\"496\" y=\"235.3516\"/><text fill=\"#000000\" font-family=\"sans-serif\" font-size=\"14\" lengthAdjust=\"spacing\" textLength=\"42\" x=\"503\" y=\"255.8867\">品牌方</text><polygon fill=\"#383838\" points=\"307,67.7988,317,71.7988,307,75.7988,311,71.7988\" style=\"stroke:#383838;stroke-width:1.0;\"/><line style=\"stroke:#383838;stroke-width:1.0;\" x1=\"42\" x2=\"313\" y1=\"71.7988\" y2=\"71.7988\"/><text fill=\"#000000\" font-family=\"sans-serif\" font-size=\"13\" lengthAdjust=\"spacing\" textLength=\"52\" x=\"49\" y=\"67.0566\">检查支付</text><polygon fill=\"#383838\" points=\"514,97.1094,524,101.1094,514,105.1094,518,101.1094\" style=\"stroke:#383838;stroke-width:1.0;\"/><line style=\"stroke:#383838;stroke-width:1.0;\" x1=\"319\" x2=\"520\" y1=\"101.1094\" y2=\"101.1094\"/><text fill=\"#000000\" font-family=\"sans-serif\" font-size=\"13\" lengthAdjust=\"spacing\" textLength=\"52\" x=\"326\" y=\"96.3672\">确认单据</text><polygon fill=\"#383838\" points=\"123,126.4199,113,130.4199,123,134.4199,119,130.4199\" style=\"stroke:#383838;stroke-width:1.0;\"/><line style=\"stroke:#383838;stroke-width:1.0;\" x1=\"117\" x2=\"318\" y1=\"130.4199\" y2=\"130.4199\"/><text fill=\"#000000\" font-family=\"sans-serif\" font-size=\"13\" lengthAdjust=\"spacing\" textLength=\"52\" x=\"129\" y=\"125.6777\">确认单据</text><polygon fill=\"#383838\" points=\"202,155.7305,212,159.7305,202,163.7305,206,159.7305\" style=\"stroke:#383838;stroke-width:1.0;\"/><line style=\"stroke:#383838;stroke-width:1.0;\" x1=\"112\" x2=\"208\" y1=\"159.7305\" y2=\"159.7305\"/><text fill=\"#000000\" font-family=\"sans-serif\" font-size=\"13\" lengthAdjust=\"spacing\" textLength=\"78\" x=\"119\" y=\"154.9883\">确认对账单据</text><polygon fill=\"#383838\" points=\"435,185.041,425,189.041,435,193.041,431,189.041\" style=\"stroke:#383838;stroke-width:1.0;\"/><line style=\"stroke:#383838;stroke-width:1.0;\" x1=\"429\" x2=\"525\" y1=\"189.041\" y2=\"189.041\"/><text fill=\"#000000\" font-family=\"sans-serif\" font-size=\"13\" lengthAdjust=\"spacing\" textLength=\"78\" x=\"441\" y=\"184.2988\">确认对账单据</text><polygon fill=\"#383838\" points=\"123,214.3516,113,218.3516,123,222.3516,119,218.3516\" style=\"stroke:#383838;stroke-width:1.0;\"/><line style=\"stroke:#383838;stroke-width:1.0;\" x1=\"117\" x2=\"318\" y1=\"218.3516\" y2=\"218.3516\"/><text fill=\"#000000\" font-family=\"sans-serif\" font-size=\"13\" lengthAdjust=\"spacing\" textLength=\"52\" x=\"129\" y=\"213.6094\">支付消息</text><!--MD5=[2c03d7611b763523c05ac17db57ede39]\n",
       "@startuml\n",
       "skinparam monochrome true\n",
       "participant 定时触发 order 0\n",
       "participant 供方 order 10\n",
       "participant 供方门户 order 20\n",
       "participant 供应链核心系统 order 30\n",
       "\n",
       "participant 品牌方 order 50\n",
       "participant 平台门户 order 40\n",
       "\n",
       "定时触发->供应链核心系统:检查支付\n",
       "供应链核心系统->品牌方: 确认单据\n",
       "供应链核心系统->供方: 确认单据\n",
       "\n",
       "\n",
       "供方 -> 供方门户: 确认对账单据\n",
       "品牌方 -> 平台门户: 确认对账单据\n",
       "供应链核心系统->供方: 支付消息\n",
       "@enduml\n",
       "\n",
       "PlantUML version 1.2021.9(Sun Jul 25 18:13:56 CST 2021)\n",
       "(GPL source distribution)\n",
       "Java Runtime: OpenJDK Runtime Environment\n",
       "JVM: OpenJDK 64-Bit Server VM\n",
       "Default Encoding: UTF-8\n",
       "Language: en\n",
       "Country: CN\n",
       "--></g></svg>"
      ],
      "text/plain": [
       "<IPython.core.display.SVG object>"
      ]
     },
     "execution_count": 9,
     "metadata": {},
     "output_type": "execute_result"
    }
   ],
   "source": [
    "%%plantuml --jar\n",
    "@startuml\n",
    "skinparam monochrome true\n",
    "participant 定时触发 order 0\n",
    "participant 供方 order 10\n",
    "participant 供方门户 order 20\n",
    "participant 供应链核心系统 order 30\n",
    "\n",
    "participant 品牌方 order 50\n",
    "participant 平台门户 order 40\n",
    "\n",
    "定时触发->供应链核心系统:检查支付\n",
    "供应链核心系统->品牌方: 确认单据\n",
    "供应链核心系统->供方: 确认单据\n",
    "\n",
    "\n",
    "供方 -> 供方门户: 确认对账单据\n",
    "品牌方 -> 平台门户: 确认对账单据\n",
    "供应链核心系统->供方: 支付消息\n",
    "@enduml\n"
   ]
  },
  {
   "cell_type": "code",
   "execution_count": null,
   "id": "51191ff9-9420-4d45-bfc4-30aa3a72b51e",
   "metadata": {},
   "outputs": [],
   "source": []
  }
 ],
 "metadata": {
  "kernelspec": {
   "display_name": "Python 3 (ipykernel)",
   "language": "python",
   "name": "python3"
  },
  "language_info": {
   "codemirror_mode": {
    "name": "ipython",
    "version": 3
   },
   "file_extension": ".py",
   "mimetype": "text/x-python",
   "name": "python",
   "nbconvert_exporter": "python",
   "pygments_lexer": "ipython3",
   "version": "3.9.1"
  }
 },
 "nbformat": 4,
 "nbformat_minor": 5
}
