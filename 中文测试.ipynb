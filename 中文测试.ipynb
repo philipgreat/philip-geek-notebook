{
 "cells": [
  {
   "cell_type": "code",
   "execution_count": 1,
   "id": "55051480-24bb-44aa-8337-ee03debdac6f",
   "metadata": {},
   "outputs": [
    {
     "name": "stdout",
     "output_type": "stream",
     "text": [
      "%d\n"
     ]
    }
   ],
   "source": [
    "print(\"%d\")"
   ]
  },
  {
   "cell_type": "code",
   "execution_count": 2,
   "id": "6588479a-6113-430b-bd01-64948f7e6673",
   "metadata": {},
   "outputs": [],
   "source": [
    "import time"
   ]
  },
  {
   "cell_type": "code",
   "execution_count": null,
   "id": "7a2f34ff-ec95-4fcd-920f-ea993c23f178",
   "metadata": {},
   "outputs": [],
   "source": []
  }
 ],
 "metadata": {
  "kernelspec": {
   "display_name": "Python 3 (ipykernel)",
   "language": "python",
   "name": "python3"
  },
  "language_info": {
   "codemirror_mode": {
    "name": "ipython",
    "version": 3
   },
   "file_extension": ".py",
   "mimetype": "text/x-python",
   "name": "python",
   "nbconvert_exporter": "python",
   "pygments_lexer": "ipython3",
   "version": "3.9.1"
  }
 },
 "nbformat": 4,
 "nbformat_minor": 5
}
